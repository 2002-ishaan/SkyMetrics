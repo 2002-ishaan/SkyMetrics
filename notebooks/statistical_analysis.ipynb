{
 "cells": [
  {
   "cell_type": "code",
   "execution_count": 1,
   "id": "f329604c",
   "metadata": {},
   "outputs": [],
   "source": [
    "import statsmodels.api as sm\n",
    "from scipy.stats import pearsonr, levene, stats\n",
    "import pandas as pd\n",
    "import numpy as np"
   ]
  },
  {
   "cell_type": "code",
   "execution_count": 2,
   "id": "2d7ebc0b",
   "metadata": {},
   "outputs": [
    {
     "name": "stdout",
     "output_type": "stream",
     "text": [
      "Air Canada Average Load Factor:  83.45\n",
      "WestJet Average Load Factor:  80.79\n",
      "t-statistic: 4.6867, p-value: 0.0000\n",
      "There is a significant difference in load factors between Air Canada and WestJet\n"
     ]
    },
    {
     "name": "stderr",
     "output_type": "stream",
     "text": [
      "/var/folders/gb/k6dlrgjj1sj86p2sks70tns00000gn/T/ipykernel_62559/3409653358.py:12: DeprecationWarning: Please import `ttest_ind` from the `scipy.stats` namespace; the `scipy.stats.stats` namespace is deprecated and will be removed in SciPy 2.0.0.\n",
      "  t_stat, p_value = stats.ttest_ind(lf_aircanada, lf_westjet, equal_var=False)\n"
     ]
    }
   ],
   "source": [
    "df_canonical = pd.read_csv(\"../data/airlines_data_canonical.csv\")\n",
    "\n",
    "#Splitting the data by airline for comparison analysis\n",
    "lf_aircanada = df_canonical[df_canonical['Airlines'] == 'Air Canada'][\"load_factor_pct\"].dropna()\n",
    "lf_westjet = df_canonical[df_canonical['Airlines'] == 'WestJet'][\"load_factor_pct\"].dropna()\n",
    "\n",
    "# Basic Averages\n",
    "print(\"Air Canada Average Load Factor: \", lf_aircanada.mean().round(2))\n",
    "print(\"WestJet Average Load Factor: \", lf_westjet.mean().round(2))\n",
    "\n",
    "# Two sample T-Test to compare the two airlines\n",
    "t_stat, p_value = stats.ttest_ind(lf_aircanada, lf_westjet, equal_var=False)\n",
    "print(f\"t-statistic: {t_stat:.4f}, p-value: {p_value:.4f}\")\n",
    "\n",
    "if p_value < 0.05:\n",
    "    print(\"There is a significant difference in load factors between Air Canada and WestJet\")\n",
    "else:\n",
    "    print(\"No significant difference in load factors between Air Canada and WestJet\")\n"
   ]
  },
  {
   "cell_type": "markdown",
   "id": "4b9989d2",
   "metadata": {},
   "source": [
    "\n",
    "Business Question: Is WestJet average load factor significantly higher than Air Canada?\n",
    "\n",
    "Load Factor (%) = how full the planes are. Higher load factor = better seat utilization = higher revenue per flight = more efficient operations. If WestJet consistently beats Air Canada here, it means they are running a leaner, more profitable network.\n",
    "\n",
    "Take load_factor_pct for each airline, across all months. Calculate the average for Air Canada and WestJet to answer our business question. Run a t-test: a statistical test that checks if the difference in averages is real or just random noise. If p-value < 0.05, we say: “Yes, the difference in load factor is significantly different.\n",
    "\n",
    "Why I did t-test? I see their averages are slightly different. But… is that difference just random noise (due to ups and downs in monthly data), or is it real and consistent? In plain words: it asks, “What are the chances this gap happened just by luck?”\n",
    "\n"
   ]
  },
  {
   "cell_type": "code",
   "execution_count": 3,
   "id": "a9f3446b",
   "metadata": {},
   "outputs": [
    {
     "name": "stdout",
     "output_type": "stream",
     "text": [
      "Avg fuel per pax-km (Air Canada): 0.042582082702847225\n",
      "Avg fuel per pax-km (WestJet): 0.03716865683063073\n",
      "\n",
      "Per 1,000,000 passenger-km:\n",
      "Air Canada: 42582.08 litres per 1M pax-km\n",
      "WestJet:    37168.66 litres per 1M pax-km\n",
      "\n",
      "t-statistic: 14.7278, p-value: 0.0000\n",
      "Difference is statistically significant\n",
      "\n",
      "WestJet’s average is lower, they burn fewer litres per passenger-km = more efficient.\n"
     ]
    },
    {
     "name": "stderr",
     "output_type": "stream",
     "text": [
      "/var/folders/gb/k6dlrgjj1sj86p2sks70tns00000gn/T/ipykernel_62559/4244566582.py:29: DeprecationWarning: Please import `ttest_ind` from the `scipy.stats` namespace; the `scipy.stats.stats` namespace is deprecated and will be removed in SciPy 2.0.0.\n",
      "  t_stat, p_value = stats.ttest_ind(fuel_eff_aircanada, fuel_eff_westjet, equal_var=False)\n"
     ]
    }
   ],
   "source": [
    "# Which airline consumes more fuel per km of demand?\n",
    "# Business Question: Which airline is more fuel efficient: Air Canada or WestJet?\n",
    "# We’ll measure fuel litres per passenger-kilometre (lower = better efficiency).\n",
    "\n",
    "# Fuel per passenger-km” (fuel_per_pax_km) = How many litres of fuel does the airline burn to carry one passenger for one kilometre?\n",
    "\n",
    "df_eff = df_canonical.copy()\n",
    "\n",
    "df_eff[\"fuel_max_per_km\"] = np.where(\n",
    "    (df_eff[\"pax_km\"] > 0) & (~df_eff[\"pax_km\"].isna()) & (~df_eff[\"fuel_litres\"].isna()),\n",
    "    df_eff[\"fuel_litres\"] / df_eff[\"pax_km\"],\n",
    "    np.nan\n",
    ")\n",
    "\n",
    "\n",
    "fuel_eff_aircanada = df_eff[df_eff['Airlines'] == 'Air Canada'][\"fuel_max_per_km\"].dropna()\n",
    "fuel_eff_westjet = df_eff[df_eff['Airlines'] == 'WestJet'][\"fuel_max_per_km\"].dropna()\n",
    "\n",
    "\n",
    "print(\"Avg fuel per pax-km (Air Canada):\", fuel_eff_aircanada.mean())\n",
    "print(\"Avg fuel per pax-km (WestJet):\", fuel_eff_westjet.mean())\n",
    "\n",
    "print(\"\\nPer 1,000,000 passenger-km:\")\n",
    "print(\"Air Canada:\", (fuel_eff_aircanada.mean()*1e6).round(2), \"litres per 1M pax-km\")\n",
    "print(\"WestJet:   \", (fuel_eff_westjet.mean()*1e6).round(2), \"litres per 1M pax-km\")\n",
    "# litres of fuel needed to carry 1 passenger for 1,000,000 km. Multiplying by 1M gives a nice interpretable number.\n",
    "\n",
    "\n",
    "t_stat, p_value = stats.ttest_ind(fuel_eff_aircanada, fuel_eff_westjet, equal_var=False)\n",
    "print(f\"\\nt-statistic: {t_stat:.4f}, p-value: {p_value:.4f}\")\n",
    "\n",
    "if p_value < 0.05:\n",
    "    print(\"Difference is statistically significant\")\n",
    "else:\n",
    "    print(\"Result: No statistically significant difference\")\n",
    "\n",
    "\n",
    "# Conclusion:\n",
    "if (fuel_eff_aircanada.mean() > fuel_eff_westjet.mean()):\n",
    "    print(\"\\nWestJet’s average is lower, they burn fewer litres per passenger-km = more efficient.\")\n",
    "else:\n",
    "    print(\"\\nAir Canada’s average is lower, they burn fewer litres per passenger-km = more efficient.\")\n",
    "\n"
   ]
  },
  {
   "cell_type": "code",
   "execution_count": 4,
   "id": "4df37b84",
   "metadata": {},
   "outputs": [],
   "source": [
    "def format_currency(value):\n",
    "    if value >= 1e9:  # 1 billion or more\n",
    "        return f\"{value/1e9:,.2f} billion CAD\"\n",
    "    elif value >= 1e6:  # 1 million or more\n",
    "        return f\"{value/1e6:,.2f} million CAD\"\n",
    "    elif value >= 1e3:  # 1 thousand or more\n",
    "        return f\"{value/1e3:,.2f} thousand CAD\"\n",
    "    else:\n",
    "        return f\"{value:,.2f} CAD\""
   ]
  },
  {
   "cell_type": "code",
   "execution_count": 5,
   "id": "5d29463c",
   "metadata": {},
   "outputs": [
    {
     "name": "stdout",
     "output_type": "stream",
     "text": [
      "\n",
      "Estimated Savings (Passenger-km efficiency):\n",
      "Fuel savings: 2600.54 million litres\n",
      "Money savings: $ 1.43 billion CAD\n"
     ]
    }
   ],
   "source": [
    "# If Air Canada matched WestJet’s efficiency in fuel per passenger-km, how much fuel and money could they save?\n",
    "\n",
    "\n",
    "aircanada_total_paxkm = df_canonical[df_canonical[\"Airlines\"]==\"Air Canada\"][\"pax_km\"].sum()\n",
    "aircanada_total_fuel  = df_canonical[df_canonical[\"Airlines\"]==\"Air Canada\"][\"fuel_litres\"].sum()\n",
    "\n",
    "aircanada_fuel_if_westjet_eff = aircanada_total_paxkm * fuel_eff_westjet.mean()\n",
    "\n",
    "fuel_price = 0.55\n",
    "fuel_savings_pax = aircanada_total_fuel - aircanada_fuel_if_westjet_eff\n",
    "money_savings_pax = fuel_savings_pax * fuel_price\n",
    "\n",
    "print(\"\\nEstimated Savings (Passenger-km efficiency):\")\n",
    "print(\"Fuel savings:\", f\"{fuel_savings_pax/1e6:.2f} million litres\")\n",
    "print(\"Money savings: $\", format_currency(money_savings_pax))\n"
   ]
  },
  {
   "cell_type": "code",
   "execution_count": 6,
   "id": "e946111d",
   "metadata": {},
   "outputs": [
    {
     "name": "stdout",
     "output_type": "stream",
     "text": [
      "Avg fuel per seat-km (Air Canada): 0.03546254419515811\n",
      "Avg fuel per seat-km (WestJet): 0.0299789350341875\n",
      "\n",
      "Per 1,000,000 seat-km:\n",
      "Air Canada: 35462.54 litres per 1M seat-km\n",
      "WestJet:    29978.94 litres per 1M seat-km\n",
      "\n",
      "Welch t-stat: 31.25  p-value: 0.0\n",
      "Difference is statistically significant (p<0.05).\n",
      "\n",
      "WestJet’s average is lower, they burn fewer litres per seat-km = more efficient.\n"
     ]
    },
    {
     "name": "stderr",
     "output_type": "stream",
     "text": [
      "/var/folders/gb/k6dlrgjj1sj86p2sks70tns00000gn/T/ipykernel_62559/2889388198.py:24: DeprecationWarning: Please import `ttest_ind` from the `scipy.stats` namespace; the `scipy.stats.stats` namespace is deprecated and will be removed in SciPy 2.0.0.\n",
      "  t_stat, p_val = stats.ttest_ind(eff_seat_aircanada, eff_seat_westjet, equal_var=False)\n"
     ]
    }
   ],
   "source": [
    "# Business Question 3: Which airline uses less fuel per available seat-kilometre?\n",
    "\n",
    "# Earlier we calculated about fuel cost per traveller carried. Seat-km efficiency tells us about fuel cost per seat offered, regardless of whether the seat was filled. Lower = better efficiency.\n",
    "\n",
    "# Fuel per seat-km = Fuel litres / seat-km\n",
    "\n",
    "\n",
    "df_eff[\"fuel_per_seat_km\"] = np.where(\n",
    "    (df_eff[\"seat_km\"] > 0) & (~df_eff[\"seat_km\"].isna()) & (~df_eff[\"fuel_litres\"].isna()),\n",
    "    df_eff[\"fuel_litres\"] / df_eff[\"seat_km\"],\n",
    "    np.nan\n",
    ")\n",
    "\n",
    "eff_seat_aircanada = df_eff[df_eff[\"Airlines\"] == \"Air Canada\"][\"fuel_per_seat_km\"].dropna()\n",
    "eff_seat_westjet = df_eff[df_eff[\"Airlines\"] == \"WestJet\"][\"fuel_per_seat_km\"].dropna()\n",
    "\n",
    "print(\"Avg fuel per seat-km (Air Canada):\", eff_seat_aircanada.mean())\n",
    "print(\"Avg fuel per seat-km (WestJet):\", eff_seat_westjet.mean())\n",
    "\n",
    "print(\"\\nPer 1,000,000 seat-km:\")\n",
    "print(\"Air Canada:\", (eff_seat_aircanada.mean()*1e6).round(2), \"litres per 1M seat-km\")\n",
    "print(\"WestJet:   \", (eff_seat_westjet.mean()*1e6).round(2), \"litres per 1M seat-km\")\n",
    "\n",
    "t_stat, p_val = stats.ttest_ind(eff_seat_aircanada, eff_seat_westjet, equal_var=False)\n",
    "print(\"\\nWelch t-stat:\", round(t_stat, 2), \" p-value:\", round(p_val, 4))\n",
    "if p_val < 0.05:\n",
    "    print(\"Difference is statistically significant (p<0.05).\")\n",
    "else:\n",
    "    print(\"No statistically significant difference (p>=0.05).\")\n",
    "\n",
    "\n",
    "# Conclusion:\n",
    "if (eff_seat_aircanada.mean() > eff_seat_westjet.mean()):\n",
    "    print(\"\\nWestJet’s average is lower, they burn fewer litres per seat-km = more efficient.\")\n",
    "else:\n",
    "    print(\"\\nAir Canada’s average is lower, they burn fewer litres per seat-km = more efficient.\")\n"
   ]
  },
  {
   "cell_type": "code",
   "execution_count": 7,
   "id": "78b6a6e2",
   "metadata": {},
   "outputs": [
    {
     "name": "stdout",
     "output_type": "stream",
     "text": [
      "\n",
      "Estimated Savings if Air Canada matched West Jet seat-km efficiency:\n",
      "Fuel savings (litres): 3327.1 million litres\n",
      "Money savings (CAD):  $ 1.83 billion CAD\n"
     ]
    }
   ],
   "source": [
    "# Interesting Question in my mind: How much money Air Canada would save if it matched WestJet’s fuel efficiency?\n",
    "\n",
    "ac_eff = eff_seat_aircanada.mean()\n",
    "wj_eff = eff_seat_westjet.mean()\n",
    "\n",
    "aircanada_total_fuel = df_canonical[df_canonical[\"Airlines\"]==\"Air Canada\"][\"fuel_litres\"].sum()\n",
    "\n",
    "aircanada_total_seat_km = df_canonical[df_canonical[\"Airlines\"]==\"Air Canada\"][\"seat_km\"].sum()\n",
    "\n",
    "aircanada_fuel_if_westjet_efficient = eff_seat_westjet.mean() * aircanada_total_seat_km\n",
    "# how much fuel Air Canada would have used if it operated as efficiently as WestJet.\n",
    "# If Air Canada did the same amount of flying, but each seat-km only cost them as much fuel as WestJet spends, how much total fuel would that be\n",
    "\n",
    "fuel_savings = aircanada_total_fuel - aircanada_fuel_if_westjet_efficient\n",
    "\n",
    "fuel_price = 0.55\n",
    "money_savings = fuel_savings * fuel_price\n",
    "\n",
    "print(\"\\nEstimated Savings if Air Canada matched West Jet seat-km efficiency:\")\n",
    "print(\"Fuel savings (litres):\", round(fuel_savings/1e6,2), \"million litres\")\n",
    "print(\"Money savings (CAD):  $\", format_currency(money_savings))\n"
   ]
  },
  {
   "cell_type": "code",
   "execution_count": 8,
   "id": "7e72c69a",
   "metadata": {},
   "outputs": [
    {
     "name": "stdout",
     "output_type": "stream",
     "text": [
      "                            OLS Regression Results                            \n",
      "==============================================================================\n",
      "Dep. Variable:            fuel_litres   R-squared:                       0.998\n",
      "Model:                            OLS   Adj. R-squared:                  0.998\n",
      "Method:                 Least Squares   F-statistic:                 2.262e+04\n",
      "Date:                Mon, 01 Sep 2025   Prob (F-statistic):          7.67e-197\n",
      "Time:                        14:15:44   Log-Likelihood:                -2434.1\n",
      "No. Observations:                 146   AIC:                             4878.\n",
      "Df Residuals:                     141   BIC:                             4893.\n",
      "Df Model:                           4                                         \n",
      "Covariance Type:            nonrobust                                         \n",
      "===============================================================================\n",
      "                  coef    std err          t      P>|t|      [0.025      0.975]\n",
      "-------------------------------------------------------------------------------\n",
      "const       -4.295e+04   3.07e+06     -0.014      0.989   -6.12e+06    6.03e+06\n",
      "pax_km          0.0203      0.002      9.065      0.000       0.016       0.025\n",
      "seat_km         0.0015      0.002      0.650      0.517      -0.003       0.006\n",
      "hours_flown  1045.5205    113.224      9.234      0.000     821.684    1269.357\n",
      "air_canada   7.155e+07   3.06e+06     23.347      0.000    6.55e+07    7.76e+07\n",
      "==============================================================================\n",
      "Omnibus:                       25.995   Durbin-Watson:                   2.004\n",
      "Prob(Omnibus):                  0.000   Jarque-Bera (JB):               72.592\n",
      "Skew:                           0.651   Prob(JB):                     1.72e-16\n",
      "Kurtosis:                       6.200   Cond. No.                     9.60e+10\n",
      "==============================================================================\n",
      "\n",
      "Notes:\n",
      "[1] Standard Errors assume that the covariance matrix of the errors is correctly specified.\n",
      "[2] The condition number is large, 9.6e+10. This might indicate that there are\n",
      "strong multicollinearity or other numerical problems.\n"
     ]
    }
   ],
   "source": [
    "df_reg = df_canonical.dropna().copy()\n",
    "\n",
    "# Boolean Aircanda = 1 (Flag)\n",
    "df_reg[\"air_canada\"] = (df_reg[\"Airlines\"]==\"Air Canada\").astype(int)\n",
    "\n",
    "# Independent variables\n",
    "X = df_reg[[\"pax_km\",\"seat_km\",\"hours_flown\",\"air_canada\"]]\n",
    "\n",
    "# Dependent variable\n",
    "y = df_reg[\"fuel_litres\"]\n",
    "\n",
    "X = sm.add_constant(X)\n",
    "\n",
    "model = sm.OLS(y, X).fit()\n",
    "\n",
    "print(model.summary())\n",
    "\n",
    "\n",
    "# Here there is a problem of multicollinearity between pax_km and seat_km. Both are highly correlated with each other. So I will make 2 models separately, one with pax_km and another with seat_km. To check which affects fuel_litres more."
   ]
  },
  {
   "cell_type": "code",
   "execution_count": 9,
   "id": "89ff5942",
   "metadata": {},
   "outputs": [
    {
     "name": "stdout",
     "output_type": "stream",
     "text": [
      "                            OLS Regression Results                            \n",
      "==============================================================================\n",
      "Dep. Variable:            fuel_litres   R-squared:                       0.998\n",
      "Model:                            OLS   Adj. R-squared:                  0.998\n",
      "Method:                 Least Squares   F-statistic:                 3.029e+04\n",
      "Date:                Mon, 01 Sep 2025   Prob (F-statistic):          5.00e-199\n",
      "Time:                        14:15:44   Log-Likelihood:                -2434.3\n",
      "No. Observations:                 146   AIC:                             4877.\n",
      "Df Residuals:                     142   BIC:                             4889.\n",
      "Df Model:                           3                                         \n",
      "Covariance Type:            nonrobust                                         \n",
      "===============================================================================\n",
      "                  coef    std err          t      P>|t|      [0.025      0.975]\n",
      "-------------------------------------------------------------------------------\n",
      "const        8.118e+05   2.77e+06      0.293      0.770   -4.67e+06    6.29e+06\n",
      "pax_km          0.0217      0.001     30.940      0.000       0.020       0.023\n",
      "hours_flown  1054.7297    112.105      9.408      0.000     833.120    1276.339\n",
      "air_canada   7.295e+07   2.16e+06     33.705      0.000    6.87e+07    7.72e+07\n",
      "==============================================================================\n",
      "Omnibus:                       25.646   Durbin-Watson:                   2.002\n",
      "Prob(Omnibus):                  0.000   Jarque-Bera (JB):               74.145\n",
      "Skew:                           0.626   Prob(JB):                     7.94e-17\n",
      "Kurtosis:                       6.259   Cond. No.                     4.96e+10\n",
      "==============================================================================\n",
      "\n",
      "Notes:\n",
      "[1] Standard Errors assume that the covariance matrix of the errors is correctly specified.\n",
      "[2] The condition number is large, 4.96e+10. This might indicate that there are\n",
      "strong multicollinearity or other numerical problems.\n"
     ]
    }
   ],
   "source": [
    "# Model 1: Using pax_km\n",
    "\n",
    "df_reg1 = df_canonical.dropna().copy()\n",
    "\n",
    "# Boolean Aircanda = 1 (Flag)\n",
    "df_reg1[\"air_canada\"] = (df_reg1[\"Airlines\"]==\"Air Canada\").astype(int)\n",
    "\n",
    "# Independent variables\n",
    "X = df_reg1[[\"pax_km\",\"hours_flown\",\"air_canada\"]]\n",
    "\n",
    "# Dependent variable\n",
    "y = df_reg1[\"fuel_litres\"]\n",
    "\n",
    "X = sm.add_constant(X)\n",
    "\n",
    "model = sm.OLS(y, X).fit()\n",
    "\n",
    "print(model.summary())"
   ]
  },
  {
   "cell_type": "code",
   "execution_count": 10,
   "id": "63d596d2",
   "metadata": {},
   "outputs": [
    {
     "name": "stdout",
     "output_type": "stream",
     "text": [
      "                            OLS Regression Results                            \n",
      "==============================================================================\n",
      "Dep. Variable:            fuel_litres   R-squared:                       0.998\n",
      "Model:                            OLS   Adj. R-squared:                  0.997\n",
      "Method:                 Least Squares   F-statistic:                 1.918e+04\n",
      "Date:                Mon, 01 Sep 2025   Prob (F-statistic):          5.84e-185\n",
      "Time:                        14:15:44   Log-Likelihood:                -2467.6\n",
      "No. Observations:                 146   AIC:                             4943.\n",
      "Df Residuals:                     142   BIC:                             4955.\n",
      "Df Model:                           3                                         \n",
      "Covariance Type:            nonrobust                                         \n",
      "===============================================================================\n",
      "                  coef    std err          t      P>|t|      [0.025      0.975]\n",
      "-------------------------------------------------------------------------------\n",
      "const       -1.581e+07   3.18e+06     -4.975      0.000   -2.21e+07   -9.53e+06\n",
      "seat_km         0.0214      0.001     23.549      0.000       0.020       0.023\n",
      "hours_flown  1188.6201    140.558      8.456      0.000     910.763    1466.477\n",
      "air_canada    5.35e+07   2.92e+06     18.317      0.000    4.77e+07    5.93e+07\n",
      "==============================================================================\n",
      "Omnibus:                        6.601   Durbin-Watson:                   1.800\n",
      "Prob(Omnibus):                  0.037   Jarque-Bera (JB):                7.145\n",
      "Skew:                           0.343   Prob(JB):                       0.0281\n",
      "Kurtosis:                       3.840   Cond. No.                     5.58e+10\n",
      "==============================================================================\n",
      "\n",
      "Notes:\n",
      "[1] Standard Errors assume that the covariance matrix of the errors is correctly specified.\n",
      "[2] The condition number is large, 5.58e+10. This might indicate that there are\n",
      "strong multicollinearity or other numerical problems.\n"
     ]
    }
   ],
   "source": [
    "# Model 2: Using seat_km\n",
    "\n",
    "df_reg2 = df_canonical.dropna().copy()\n",
    "\n",
    "# Boolean Aircanda = 1 (Flag)\n",
    "df_reg2[\"air_canada\"] = (df_reg2[\"Airlines\"]==\"Air Canada\").astype(int)\n",
    "\n",
    "# Independent variables\n",
    "X = df_reg2[[\"seat_km\",\"hours_flown\",\"air_canada\"]]\n",
    "\n",
    "# Dependent variable\n",
    "y = df_reg2[\"fuel_litres\"]\n",
    "\n",
    "X = sm.add_constant(X)\n",
    "\n",
    "model = sm.OLS(y, X).fit()\n",
    "\n",
    "print(model.summary())"
   ]
  },
  {
   "cell_type": "markdown",
   "id": "77ba8b0c",
   "metadata": {},
   "source": [
    "Whether you measure distance as passenger-kilometres (pax_km) or available seat-kilometres (seat_km), the slope is ~0.021–0.022 litres per km.\n",
    "That means +1 billion pax_km/seat_km ≈ +21–22 million litres of fuel. Time in the air also matters a lot. Hours_flown adds roughly 1,000–1,200 litres per hour (fleet total).\n",
    "\n",
    "When both pax_km and seat_km are in the same model, pax_km is significant and seat_km is not. Because they’re almost the same thing (both scale with flying activity), so the model can’t cleanly split their effects. So I decided to run separate models:\n",
    "\n",
    "Seat_km-only model: seat_km has a clear, strong slope (~0.0214).\n",
    "Pax_km-only model: pax_km has a clear, strong slope (~0.0217).\n",
    "\n",
    "Conclusion: Use one of them (not both) for a clean, stable story.\n",
    "If company planning is capacity optimising, use seat_km.\n",
    "If company planning is demand served / revenue side, use pax_km.\n",
    "\n",
    "\n",
    "The Air Canada indicator is large and positive in every model even after controlling for distance and hours:\n",
    "\n",
    "With seat_km model: ~+53 million litres extra vs. WestJet.\n",
    "With pax_km model: ~+73 million litres extra vs. WestJet.\n",
    "\n",
    "Interpretation: Air Canada burns tens of millions more litres than WestJet. This points to a structural/operational efficiency gap.\n",
    "\n",
    "What about the multicollinearity warning? pax_km, seat_km, and hours_flown all rise together when airlines fly more. The predictors are highly correlated, so the model flags multicollinearity. It does not break findings because the key slopes are stable and highly significant; the direction and magnitude make operational sense.\n",
    "\n",
    "In my analysis for the case, the coefficients stay positive, reasonable, and highly significant (p < 0.001). So the findings are reliable.\n",
    "\n",
    "\n",
    "In my Analysis:\n",
    "\n",
    "1 - pax_km slope (0.0217) → fuel rises 21M litres per 1B km, holding hours and airline constant.\n",
    "2 - hours_flown slope (~1055) → fuel rises ~1,055 L per flight hour, holding distance and airline constant.\n",
    "3 - air_canada slope (+70M) → Air Canada uses +70M litres more fuel than WestJet, even after distance (pax_km) and hours are already accounted for.\n",
    "\n",
    "We account for the effect of one factor while holding the others steady. Each coefficient is estimated after adjusting for the other predictors in the model. That’s what “controlling for” means — the model separates the effect of each predictor. Even after we adjust for the fact that Air Canada flies more (distance) and longer (hours), it still burns 50–70M litres extra. That gap is structural, not just volume-driven."
   ]
  },
  {
   "cell_type": "code",
   "execution_count": 11,
   "id": "18f024d1",
   "metadata": {},
   "outputs": [
    {
     "name": "stdout",
     "output_type": "stream",
     "text": [
      "Air Canada correlation fuel vs pax-km: 0.979 (p-value: 0.0 )\n",
      "WestJet correlation fuel vs pax-km: 0.96 (p-value: 0.0 )\n"
     ]
    }
   ],
   "source": [
    "# Business Question: How closely do fuel consumption and passenger-kilometres (demand) move together over time for each airline?\n",
    "# We will compute pearson correlation coefficients between fuel consumption (fuel_litres) and passenger-kilometres (pax_km) for each airline.\n",
    "\n",
    "# Pearson's correlation when we need to determine the strength and direction of a linear relationship between two continuous quantitative variables that are also normally distributed and independent\n",
    "\n",
    "\n",
    "def fuel_demand_corr(df, airline):\n",
    "    subset = df[df[\"Airlines\"] == airline].dropna(subset=[\"fuel_litres\",\"pax_km\"])\n",
    "    corr, pval = pearsonr(subset[\"fuel_litres\"], subset[\"pax_km\"])\n",
    "    return corr, pval\n",
    "\n",
    "corr_aircanada, pval_aircanada = fuel_demand_corr(df_canonical, \"Air Canada\")\n",
    "corr_westjet, pval_westjet = fuel_demand_corr(df_canonical, \"WestJet\")\n",
    "\n",
    "print(\"Air Canada correlation fuel vs pax-km:\", round(corr_aircanada, 3), \"(p-value:\", round(pval_aircanada,4),\")\")\n",
    "print(\"WestJet correlation fuel vs pax-km:\", round(corr_westjet, 3), \"(p-value:\", round(pval_westjet,4),\")\")\n",
    "\n",
    "\n",
    "# Air Canada: correlation between fuel consumption and passenger-km = 0.979 (very strong)\n",
    "# WestJet: correlation = 0.960 (very strong)\n",
    "# Both have p < 0.001 → statistically significant (not random)\n",
    "\n",
    "# Since the relationship is so tight, airlines can’t really save fuel just by changing how much they fly. Fuel almost always scales with demand. \n",
    "\n",
    "# The real move is improvement in burning less fuel per passenger-km (making each passenger-km cheaper in fuel). Now how can they do this? It's a topic for another day!\n",
    "    "
   ]
  },
  {
   "cell_type": "code",
   "execution_count": 12,
   "id": "9d769c8f",
   "metadata": {},
   "outputs": [
    {
     "data": {
      "image/png": "[encoded data removed]",
      "text/plain": [
       "<Figure size 1200x600 with 1 Axes>"
      ]
     },
     "metadata": {},
     "output_type": "display_data"
    }
   ],
   "source": [
    "# Let's visualize the correlation using a scatter plot with a regression line\n",
    "import matplotlib.pyplot as plt\n",
    "import seaborn as sns\n",
    "\n",
    "plt.figure(figsize=(12, 6))\n",
    "\n",
    "sns.scatterplot(data=df_canonical, x=\"pax_km\", y=\"fuel_litres\", hue=\"Airlines\", alpha=0.6)\n",
    "\n",
    "sns.regplot(\n",
    "    data=df_canonical[df_canonical[\"Airlines\"]==\"Air Canada\"],\n",
    "    x=\"pax_km\", y=\"fuel_litres\",\n",
    "    scatter=False, color=\"blue\", label=\"Air Canada trend\"\n",
    ")\n",
    "\n",
    "sns.regplot(\n",
    "    data=df_canonical[df_canonical[\"Airlines\"]==\"WestJet\"],\n",
    "    x=\"pax_km\", y=\"fuel_litres\",\n",
    "    scatter=False, color=\"orange\", label=\"WestJet trend\"\n",
    ")\n",
    "\n",
    "plt.xlabel(\"Passenger-kilometres (pax_km)\")\n",
    "plt.ylabel(\"Fuel consumption (litres)\")\n",
    "plt.title(\"Fuel vs Passenger-km (Air Canada vs WestJet)\")\n",
    "plt.legend()\n",
    "plt.tight_layout()\n",
    "plt.show()"
   ]
  },
  {
   "cell_type": "code",
   "execution_count": 13,
   "id": "5ae048b3",
   "metadata": {},
   "outputs": [],
   "source": [
    "# It’s true Air Canada has a larger international footprint, which makes it consume more fuel overall. But our regression model controls for both distance (pax-km) and time in the air (hours flown). Even after those adjustments, Air Canada still uses ~50–70M litres more fuel than WestJet. That shows the difference isn’t only scale or international flying, it’s an efficiency gap per unit of output.\n",
    "\n",
    "# Both Air Canada and WestJet burn fuel almost directly in proportion to how many passengers they fly and how far. Air Canada flies at a much bigger(international) scale, and its fuel use grows very predictably with demand. WestJet also follows the same pattern but with a little more variability. To save fuel, either airline would need to make each passenger-km cheaper in fuel, not just fly more or less.\n",
    "\n",
    "# That’s the key intuition: regression automatically adjusts for the scale of the variables you include. If one airline burns more fuel just because it flies more passenger-km (bigger scale), regression attributes that part of the fuel to the pax_km coefficient. If another airline burns more fuel just because it spends more hours in the air, regression attributes that to the hours_flown coefficient.\n",
    "\n",
    "# What’s left over — the “extra” fuel beyond what distance and time explain — is picked up by the air_canada dummy. So instead of saying “Air Canada uses more fuel because it’s bigger,” regression says: “Let’s compare apples to apples — if both flew the same distance and time, Air Canada would still use more fuel.” That’s how it isolates the efficiency gap."
   ]
  },
  {
   "cell_type": "code",
   "execution_count": 14,
   "id": "0f37a4fe",
   "metadata": {},
   "outputs": [
    {
     "name": "stdout",
     "output_type": "stream",
     "text": [
      "Load Factor variance test → p = 0.6209\n",
      "Std Dev (Air Canada): 3.44\n",
      "Std Dev (WestJet):    3.42\n",
      "\n",
      "Fuel per pax-km variance test → p = 0.0\n",
      "Std Dev (Air Canada): 0.002685\n",
      "Std Dev (WestJet):    0.001629\n"
     ]
    }
   ],
   "source": [
    "# Business Question: Which airline operates more consistently, who has less month-to-month volatility in efficiency and load factor?\n",
    "\n",
    "df_eff[\"fuel_per_pax_km\"] = df_eff[\"fuel_litres\"] / df_eff[\"pax_km\"]\n",
    "df_eff[\"fuel_per_seat_km\"] = df_eff[\"fuel_litres\"] / df_eff[\"seat_km\"]\n",
    "\n",
    "aircanada_lf = df_eff.loc[df_eff[\"Airlines\"]==\"Air Canada\", \"load_factor_pct\"].dropna()\n",
    "westjet_lf = df_eff.loc[df_eff[\"Airlines\"]==\"WestJet\",   \"load_factor_pct\"].dropna()\n",
    "\n",
    "stat, p = levene(aircanada_lf, westjet_lf)\n",
    "print(\"Load Factor variance test → p =\", round(p,4))\n",
    "print(\"Std Dev (Air Canada):\", aircanada_lf.std().round(2))\n",
    "print(\"Std Dev (WestJet):   \", westjet_lf.std().round(2))\n",
    "\n",
    "ac_fp = df_eff.loc[df_eff[\"Airlines\"]==\"Air Canada\", \"fuel_per_pax_km\"].dropna()\n",
    "wj_fp = df_eff.loc[df_eff[\"Airlines\"]==\"WestJet\",   \"fuel_per_pax_km\"].dropna()\n",
    "\n",
    "stat, p = levene(ac_fp, wj_fp)\n",
    "print(\"\\nFuel per pax-km variance test → p =\", round(p,4))\n",
    "print(\"Std Dev (Air Canada):\", ac_fp.std().round(6))\n",
    "print(\"Std Dev (WestJet):   \", wj_fp.std().round(6))\n",
    "\n",
    "\n",
    "# Std Dev (Air Canada): 3.44, WestJet: 3.42\n",
    "#Levene p = 0.621 (>0.05) → no significant difference.\n",
    "\n",
    "#Both airlines have similar stability in how full their planes are.Air Canada and WestJet run equally stable load factors (~3.4% variability). Neither carrier has a significant edge in consistency of seat utilization.\n",
    "\n",
    "\n",
    "#Std Dev (Air Canada): 0.0027, WestJet: 0.0016\n",
    "#Levene’s p = 0.000 (<0.05) → significant difference.\n",
    "\n",
    "# WestJet’s fuel efficiency is more consistent (std dev 0.0016 vs 0.0027). Air Canada shows significantly higher volatility, meaning its per-passenger fuel burn fluctuates more across months\n",
    "\n",
    "\n",
    "# WestJet is more consistent in fuel efficiency, which implies better operational control (fleet mix, route design, or scheduling). For investors or managers, WestJet looks lower risk, while Air Canada has more unpredictable fuel costs per passenger."
   ]
  }
 ],
 "metadata": {
  "kernelspec": {
   "display_name": "ml-env (3.11.13)",
   "language": "python",
   "name": "python3"
  },
  "language_info": {
   "codemirror_mode": {
    "name": "ipython",
    "version": 3
   },
   "file_extension": ".py",
   "mimetype": "text/x-python",
   "name": "python",
   "nbconvert_exporter": "python",
   "pygments_lexer": "ipython3",
   "version": "3.11.13"
  }
 },
 "nbformat": 4,
 "nbformat_minor": 5
}
